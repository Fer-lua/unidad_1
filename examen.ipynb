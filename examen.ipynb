{
 "cells": [
  {
   "cell_type": "code",
   "execution_count": 30,
   "id": "muslim-klein",
   "metadata": {},
   "outputs": [
    {
     "name": "stdout",
     "output_type": "stream",
     "text": [
      "Tipo de dato de cada variable:\n",
      "<class 'int'>\n",
      "<class 'str'>\n",
      "<class 'bool'>\n",
      "<class 'float'>\n",
      "<class 'complex'>\n"
     ]
    }
   ],
   "source": [
    "edad=8\n",
    "nombre= \"fernanda lua\"\n",
    "v=True\n",
    "hrs= 3.12\n",
    "num=4+2j\n",
    "print(\"Tipo de dato de cada variable:\")\n",
    "print(type(edad))\n",
    "print(type(nombre))\n",
    "print(type(v))\n",
    "print(type(hrs))\n",
    "print(type(num_complex))\n"
   ]
  },
  {
   "cell_type": "code",
   "execution_count": 7,
   "id": "occasional-darkness",
   "metadata": {},
   "outputs": [
    {
     "name": "stdout",
     "output_type": "stream",
     "text": [
      "10\n",
      "600\n"
     ]
    }
   ],
   "source": [
    "def multiplicacion(dato1,dato2,dato3='None'):\n",
    "    if dato3 !='None':\n",
    "        return dato1*dato2*dato3\n",
    "    else:\n",
    "        return dato1*dato2\n",
    "\n",
    "multiplicacion(2,3,3)\n",
    "\n",
    "area_cuarto=multiplicacion\n",
    "print(area_cuarto(5,2))\n",
    "\n",
    "area_casa=multiplicacion\n",
    "print(area_casa(20,30))\n",
    "\n"
   ]
  },
  {
   "cell_type": "code",
   "execution_count": 13,
   "id": "constant-constitution",
   "metadata": {},
   "outputs": [
    {
     "name": "stdout",
     "output_type": "stream",
     "text": [
      "38\n",
      "7\n",
      "22\n",
      "a\n",
      "f\n"
     ]
    }
   ],
   "source": [
    "ejem_tupla = ( 38, 7, 22 , \"a\", \"f\" )\n",
    "for item in ejem_tupla:\n",
    "    print(item)   \n"
   ]
  },
  {
   "cell_type": "code",
   "execution_count": 27,
   "id": "different-thickness",
   "metadata": {},
   "outputs": [
    {
     "name": "stdout",
     "output_type": "stream",
     "text": [
      "77383\n",
      "3\n",
      "924\n",
      "54\n",
      "32993\n",
      "El minimo es: 3\n",
      "El minimo es: 77383\n",
      "Primer elemento de la lista: 77383\n"
     ]
    }
   ],
   "source": [
    "ejem_lista = [77383,3,924,54,32993]\n",
    "for item in ejem_lista:\n",
    "    print(item)\n",
    "\n",
    "minimo=min(ejem_lista)\n",
    "maximo=max(ejem_lista)\n",
    "print(\"El minimo es:\",minimo) \n",
    "print(\"El minimo es:\",maximo)\n",
    "\n",
    "#agregar elemento\n",
    "ejem_lista.append(1)\n",
    "\n",
    "#imprimir el primer elemento\n",
    "print(\"Primer elemento de la lista:\",ejem_lista[0])\n"
   ]
  },
  {
   "cell_type": "code",
   "execution_count": 28,
   "id": "beneficial-consultation",
   "metadata": {},
   "outputs": [
    {
     "name": "stdout",
     "output_type": "stream",
     "text": [
      "['Esta', 'es', 'una', 'prueba', 'de', 'str']\n"
     ]
    }
   ],
   "source": [
    "frase= \"Esta es una prueba de str\"\n",
    "a= frase.split(\" \")\n",
    "print(a)"
   ]
  },
  {
   "cell_type": "code",
   "execution_count": null,
   "id": "external-biotechnology",
   "metadata": {},
   "outputs": [],
   "source": []
  }
 ],
 "metadata": {
  "kernelspec": {
   "display_name": "Python 3",
   "language": "python",
   "name": "python3"
  },
  "language_info": {
   "codemirror_mode": {
    "name": "ipython",
    "version": 3
   },
   "file_extension": ".py",
   "mimetype": "text/x-python",
   "name": "python",
   "nbconvert_exporter": "python",
   "pygments_lexer": "ipython3",
   "version": "3.6.9"
  }
 },
 "nbformat": 4,
 "nbformat_minor": 5
}

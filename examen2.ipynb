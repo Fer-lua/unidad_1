{
 "cells": [
  {
   "cell_type": "code",
   "execution_count": 24,
   "id": "considered-characteristic",
   "metadata": {},
   "outputs": [
    {
     "name": "stdout",
     "output_type": "stream",
     "text": [
      "    web-scraper-order                              web-scraper-start-url  \\\n",
      "0       1615248519-90  https://www.rappi.com.mx/restaurantes/category...   \n",
      "1       1615248519-94  https://www.rappi.com.mx/restaurantes/category...   \n",
      "2      1615248519-112  https://www.rappi.com.mx/restaurantes/category...   \n",
      "3      1615248519-108  https://www.rappi.com.mx/restaurantes/category...   \n",
      "4       1615248519-88  https://www.rappi.com.mx/restaurantes/category...   \n",
      "..                ...                                                ...   \n",
      "423    1615763076-166  https://www.ubereats.com/mx/search?ps=1&q=pizz...   \n",
      "424    1615763076-131  https://www.ubereats.com/mx/search?ps=1&q=pizz...   \n",
      "425    1615763138-273  https://www.ubereats.com/mx/search?ps=1&q=pizz...   \n",
      "426     1615763045-21  https://www.ubereats.com/mx/search?ps=1&q=pizz...   \n",
      "427     1615763045-76  https://www.ubereats.com/mx/search?ps=1&q=pizz...   \n",
      "\n",
      "                            name  rating  \n",
      "0                     Il Diavolo     4.7  \n",
      "1                        Pizzeta     4.3  \n",
      "2                        Ipanema     NaN  \n",
      "3               Pizzería Ragazzo     NaN  \n",
      "4                   La Mía Pizza     4.7  \n",
      "..                           ...     ...  \n",
      "423                  Café Qronos     NaN  \n",
      "424                        Massa     NaN  \n",
      "425                  College Bar     4.8  \n",
      "426     La piccola italia centro     4.5  \n",
      "427  USA WINGS QUERETARO HILVANA     NaN  \n",
      "\n",
      "[428 rows x 4 columns]\n"
     ]
    }
   ],
   "source": [
    "import pandas as pd\n",
    "import numpy as np\n",
    "df=pd.read_csv(r'pizzas_queretaro.csv')\n",
    "print(df)"
   ]
  },
  {
   "cell_type": "code",
   "execution_count": 25,
   "id": "smart-forge",
   "metadata": {},
   "outputs": [
    {
     "name": "stdout",
     "output_type": "stream",
     "text": [
      "    web-scraper-order                              web-scraper-start-url  \\\n",
      "0       1615248519-90  https://www.rappi.com.mx/restaurantes/category...   \n",
      "1       1615248519-94  https://www.rappi.com.mx/restaurantes/category...   \n",
      "2      1615248519-112  https://www.rappi.com.mx/restaurantes/category...   \n",
      "3      1615248519-108  https://www.rappi.com.mx/restaurantes/category...   \n",
      "4       1615248519-88  https://www.rappi.com.mx/restaurantes/category...   \n",
      "..                ...                                                ...   \n",
      "423    1615763076-166  https://www.ubereats.com/mx/search?ps=1&q=pizz...   \n",
      "424    1615763076-131  https://www.ubereats.com/mx/search?ps=1&q=pizz...   \n",
      "425    1615763138-273  https://www.ubereats.com/mx/search?ps=1&q=pizz...   \n",
      "426     1615763045-21  https://www.ubereats.com/mx/search?ps=1&q=pizz...   \n",
      "427     1615763045-76  https://www.ubereats.com/mx/search?ps=1&q=pizz...   \n",
      "\n",
      "                            name  rating  \n",
      "0                     Il Diavolo     4.7  \n",
      "1                        Pizzeta     4.3  \n",
      "2                        Ipanema     0.0  \n",
      "3               Pizzería Ragazzo     0.0  \n",
      "4                   La Mía Pizza     4.7  \n",
      "..                           ...     ...  \n",
      "423                  Café Qronos     0.0  \n",
      "424                        Massa     0.0  \n",
      "425                  College Bar     4.8  \n",
      "426     La piccola italia centro     4.5  \n",
      "427  USA WINGS QUERETARO HILVANA     0.0  \n",
      "\n",
      "[428 rows x 4 columns]\n"
     ]
    }
   ],
   "source": [
    "df=df.fillna(0)\n",
    "print(df)"
   ]
  },
  {
   "cell_type": "code",
   "execution_count": 26,
   "id": "prerequisite-installation",
   "metadata": {},
   "outputs": [
    {
     "name": "stdout",
     "output_type": "stream",
     "text": [
      "5.0\n"
     ]
    }
   ],
   "source": [
    "calificacion=df['rating'].max()\n",
    "print(calificacion)\n",
    "\n"
   ]
  },
  {
   "cell_type": "code",
   "execution_count": 36,
   "id": "improved-radiation",
   "metadata": {},
   "outputs": [
    {
     "name": "stdout",
     "output_type": "stream",
     "text": [
      "La muestra es de 428\n",
      "La pizzeria mejor calificada en Qro es Movies Pizza\n",
      "La pizzeria mejor calificada en Qro es Movies Pizza\n"
     ]
    }
   ],
   "source": [
    "muestra=df['rating'].count()\n",
    "print(\"La muestra es de\",muestra)\n",
    "nombre=df['name']\n",
    "for x in range (0,muestra):\n",
    "    if(df['rating'][x]==5):\n",
    "        print(\"La pizzeria mejor calificada en Qro es\",nombre[x])"
   ]
  },
  {
   "cell_type": "code",
   "execution_count": null,
   "id": "fancy-flood",
   "metadata": {},
   "outputs": [],
   "source": []
  }
 ],
 "metadata": {
  "kernelspec": {
   "display_name": "Python 3",
   "language": "python",
   "name": "python3"
  },
  "language_info": {
   "codemirror_mode": {
    "name": "ipython",
    "version": 3
   },
   "file_extension": ".py",
   "mimetype": "text/x-python",
   "name": "python",
   "nbconvert_exporter": "python",
   "pygments_lexer": "ipython3",
   "version": "3.6.9"
  }
 },
 "nbformat": 4,
 "nbformat_minor": 5
}
